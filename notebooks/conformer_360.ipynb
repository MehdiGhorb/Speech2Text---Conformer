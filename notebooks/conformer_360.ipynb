{
 "cells": [
  {
   "cell_type": "code",
   "execution_count": 1,
   "metadata": {},
   "outputs": [],
   "source": [
    "import os\n",
    "from torch.utils.data import DataLoader\n",
    "from torch.optim.lr_scheduler import CosineAnnealingLR\n",
    "import matplotlib.pyplot as plt\n",
    "import torch.optim as optim\n",
    "import yaml\n",
    "from tqdm import tqdm\n",
    "\n",
    "import sys\n",
    "sys.path.append('../')\n",
    "from src.conformer import *\n",
    "from src.data_loader import *\n",
    "from src.train import *"
   ]
  },
  {
   "cell_type": "code",
   "execution_count": 2,
   "metadata": {},
   "outputs": [
    {
     "name": "stdout",
     "output_type": "stream",
     "text": [
      "Using device: cuda\n"
     ]
    }
   ],
   "source": [
    "# Set device\n",
    "device = torch.device(\"cuda\" if torch.cuda.is_available() else \"cpu\")\n",
    "print(f\"Using device: {device}\")"
   ]
  },
  {
   "cell_type": "code",
   "execution_count": 3,
   "metadata": {},
   "outputs": [],
   "source": [
    "with open(\"../configs/training_config.yaml\", \"r\") as file:\n",
    "    config = yaml.safe_load(file)\n",
    "\n",
    "# Access hyperparameters\n",
    "BATCH_SIZE = config[\"hyperparameters\"][\"BATCH_SIZE\"]\n",
    "NUM_EPOCHS = config[\"hyperparameters\"][\"NUM_EPOCHS\"]\n",
    "LEARNING_RATE = config[\"hyperparameters\"][\"LEARNING_RATE\"]\n",
    "WEIGHT_DECAY = config[\"hyperparameters\"][\"WEIGHT_DECAY\"]\n",
    "\n",
    "# Access model parameters\n",
    "INPUT_DIM = config[\"model\"][\"INPUT_DIM\"]\n",
    "D_MODEL = config[\"model\"][\"D_MODEL\"]\n",
    "NUM_HEADS = config[\"model\"][\"NUM_HEADS\"]\n",
    "D_FF = config[\"model\"][\"D_FF\"]\n",
    "NUM_LAYERS = config[\"model\"][\"NUM_LAYERS\"]\n",
    "KERNEL_SIZE = config[\"model\"][\"KERNEL_SIZE\"]\n",
    "DROPOUT = config[\"model\"][\"DROPOUT\"]\n",
    "VOCAB_SIZE = config[\"model\"][\"VOCAB_SIZE\"]\n",
    "EARLY_STOPPING_PATIENCE = config[\"model\"][\"EARLY_STOPPING_PATIENCE\"]\n",
    "NO_IMPROVE_EPOCHS = config[\"model\"][\"NO_IMPROVE_EPOCHS\"]"
   ]
  },
  {
   "cell_type": "code",
   "execution_count": 4,
   "metadata": {},
   "outputs": [
    {
     "name": "stdout",
     "output_type": "stream",
     "text": [
      "Total parameters: 82,128,927\n",
      "Model storage required: 313.30 MB\n"
     ]
    }
   ],
   "source": [
    "# Data paths\n",
    "data_root = \"../data\"\n",
    "    \n",
    "# Create datasets\n",
    "train_dataset = LibriSpeechDataset(root=data_root, split=\"train-clean-360\")\n",
    "val_dataset = LibriSpeechDataset(root=data_root, split=\"dev-clean\")\n",
    "    \n",
    "# Create data loaders\n",
    "train_loader = DataLoader(\n",
    "        train_dataset,\n",
    "        batch_size=BATCH_SIZE,\n",
    "        shuffle=True,\n",
    "        collate_fn=collate_fn,\n",
    "        num_workers=4\n",
    "    )\n",
    "    \n",
    "val_loader = DataLoader(\n",
    "        val_dataset,\n",
    "        batch_size=BATCH_SIZE,\n",
    "        shuffle=False,\n",
    "        collate_fn=collate_fn,\n",
    "        num_workers=4\n",
    "    )\n",
    "    \n",
    "# Initialize model\n",
    "model = Conformer(\n",
    "        input_dim=INPUT_DIM,\n",
    "        d_model=D_MODEL,\n",
    "        num_heads=NUM_HEADS,\n",
    "        d_ff=D_FF,\n",
    "        num_layers=NUM_LAYERS,\n",
    "        kernel_size=KERNEL_SIZE,\n",
    "        dropout=DROPOUT,\n",
    "        vocab_size=VOCAB_SIZE\n",
    "    ).to(device)\n",
    "\n",
    "# Calculate model parameters\n",
    "total_params = sum(p.numel() for p in model.parameters())\n",
    "print(f\"Total parameters: {total_params:,}\")\n",
    "\n",
    "# Estimate model storage (in MB)\n",
    "param_size = 4 # float32 size\n",
    "storage_needed = total_params * param_size / (1024 ** 2)\n",
    "print(f\"Model storage required: {storage_needed:.2f} MB\")\n",
    "    \n",
    "# Define optimizer and loss\n",
    "optimizer = optim.Adam(model.parameters(), lr=LEARNING_RATE)\n",
    "\n",
    "warmup_epochs = 5  # Number of warmup epochs\n",
    "scheduler = CosineAnnealingLR(optimizer, T_max=NUM_EPOCHS, eta_min=LEARNING_RATE * 0.1)\n",
    "\n",
    "#scheduler = optim.lr_scheduler.ReduceLROnPlateau(\n",
    "#        optimizer, 'min', factor=0.5, patience=2, verbose=True\n",
    "#    )\n",
    "\n",
    "criterion = nn.CTCLoss(blank=train_dataset.blank_idx)\n",
    "\n",
    "scaler = torch.cuda.amp.GradScaler()\n"
   ]
  },
  {
   "cell_type": "code",
   "execution_count": 5,
   "metadata": {},
   "outputs": [
    {
     "name": "stdout",
     "output_type": "stream",
     "text": [
      "Loading checkpoint from ../models/conformer_checkpoint_epoch_14.pt\n",
      "Resuming training from epoch 14\n"
     ]
    },
    {
     "name": "stderr",
     "output_type": "stream",
     "text": [
      "Epoch 15 - Training: 100%|██████████| 52007/52007 [6:31:08<00:00,  2.22it/s, loss=0.109]   \n",
      "/opt/conda/lib/python3.10/site-packages/torch/optim/lr_scheduler.py:156: UserWarning: The epoch parameter in `scheduler.step()` was not necessary and is being deprecated where possible. Please use `scheduler.step()` to step the scheduler. During the deprecation, if epoch is different from None, the closed form is used instead of the new chainable form, where available. Please open an issue if you are unable to replicate your use case: https://github.com/pytorch/pytorch/issues/new/choose.\n",
      "  warnings.warn(EPOCH_DEPRECATION_WARNING, UserWarning)\n"
     ]
    },
    {
     "name": "stdout",
     "output_type": "stream",
     "text": [
      "Epoch 15/50 - Train Loss: 0.3101, Val Loss: 0.2792\n",
      "Saving best model with val loss: 0.2792\n"
     ]
    },
    {
     "name": "stderr",
     "output_type": "stream",
     "text": [
      "Epoch 16 - Training: 100%|██████████| 52007/52007 [6:32:57<00:00,  2.21it/s, loss=0.262]   \n"
     ]
    },
    {
     "name": "stdout",
     "output_type": "stream",
     "text": [
      "Epoch 16/50 - Train Loss: 0.2315, Val Loss: 0.2429\n",
      "Saving best model with val loss: 0.2429\n"
     ]
    },
    {
     "name": "stderr",
     "output_type": "stream",
     "text": [
      "Epoch 17 - Training: 100%|██████████| 52007/52007 [6:33:52<00:00,  2.20it/s, loss=0.0983]  \n"
     ]
    },
    {
     "name": "stdout",
     "output_type": "stream",
     "text": [
      "Epoch 17/50 - Train Loss: 0.1930, Val Loss: 0.2038\n",
      "Saving best model with val loss: 0.2038\n"
     ]
    },
    {
     "name": "stderr",
     "output_type": "stream",
     "text": [
      "Epoch 18 - Training: 100%|██████████| 52007/52007 [6:33:10<00:00,  2.20it/s, loss=0.0573]   \n"
     ]
    },
    {
     "name": "stdout",
     "output_type": "stream",
     "text": [
      "Epoch 18/50 - Train Loss: 0.1671, Val Loss: 0.1890\n",
      "Saving best model with val loss: 0.1890\n"
     ]
    },
    {
     "name": "stderr",
     "output_type": "stream",
     "text": [
      "Epoch 19 - Training: 100%|██████████| 52007/52007 [6:32:41<00:00,  2.21it/s, loss=0.16]     \n"
     ]
    },
    {
     "name": "stdout",
     "output_type": "stream",
     "text": [
      "Epoch 19/50 - Train Loss: 0.1439, Val Loss: 0.2116\n"
     ]
    },
    {
     "name": "stderr",
     "output_type": "stream",
     "text": [
      "Epoch 20 - Training: 100%|██████████| 52007/52007 [6:34:10<00:00,  2.20it/s, loss=0.14]     \n"
     ]
    },
    {
     "name": "stdout",
     "output_type": "stream",
     "text": [
      "Epoch 20/50 - Train Loss: 0.1294, Val Loss: 0.1655\n",
      "Saving best model with val loss: 0.1655\n"
     ]
    },
    {
     "name": "stderr",
     "output_type": "stream",
     "text": [
      "Epoch 21 - Training: 100%|██████████| 52007/52007 [6:33:08<00:00,  2.20it/s, loss=0.261]    \n"
     ]
    },
    {
     "name": "stdout",
     "output_type": "stream",
     "text": [
      "Epoch 21/50 - Train Loss: 0.1235, Val Loss: 0.1753\n"
     ]
    },
    {
     "name": "stderr",
     "output_type": "stream",
     "text": [
      "Epoch 22 - Training: 100%|██████████| 52007/52007 [6:32:09<00:00,  2.21it/s, loss=0.275]    \n"
     ]
    },
    {
     "name": "stdout",
     "output_type": "stream",
     "text": [
      "Epoch 22/50 - Train Loss: 0.1078, Val Loss: 0.1794\n"
     ]
    },
    {
     "name": "stderr",
     "output_type": "stream",
     "text": [
      "Epoch 23 - Training: 100%|██████████| 52007/52007 [6:32:44<00:00,  2.21it/s, loss=0.0745]   \n"
     ]
    },
    {
     "name": "stdout",
     "output_type": "stream",
     "text": [
      "Epoch 23/50 - Train Loss: 0.1067, Val Loss: 0.1830\n",
      "Early stopping triggered.\n"
     ]
    }
   ],
   "source": [
    "# Path to last checkpoint\n",
    "checkpoint_path = \"../models/conformer_checkpoint_epoch_14.pt\"\n",
    "\n",
    "# Initialize variables\n",
    "start_epoch = 0\n",
    "best_val_loss = float(\"inf\")\n",
    "NO_IMPROVE_EPOCHS = 0\n",
    "\n",
    "# Check if checkpoint exists and load it\n",
    "if os.path.exists(checkpoint_path):\n",
    "    print(f\"Loading checkpoint from {checkpoint_path}\")\n",
    "    checkpoint = torch.load(checkpoint_path)\n",
    "\n",
    "    model.load_state_dict(checkpoint[\"model_state_dict\"])\n",
    "    optimizer.load_state_dict(checkpoint[\"optimizer_state_dict\"])\n",
    "    scheduler.load_state_dict(checkpoint[\"scheduler_state_dict\"])\n",
    "\n",
    "    start_epoch = checkpoint[\"epoch\"]  # Continue from next epoch\n",
    "\n",
    "    print(f\"Resuming training from epoch {start_epoch}\")\n",
    "\n",
    "# Training loop\n",
    "train_losses = []\n",
    "val_losses = []\n",
    "\n",
    "for epoch in range(start_epoch, NUM_EPOCHS):\n",
    "    # Train with mixed precision\n",
    "    train_loss = train(model, train_loader, optimizer, criterion, device, epoch, scaler)\n",
    "\n",
    "    # Evaluate\n",
    "    val_loss = evaluate(model, val_loader, criterion, device)\n",
    "\n",
    "    # Adjust learning rate\n",
    "    scheduler.step(val_loss)\n",
    "\n",
    "    # Save losses\n",
    "    train_losses.append(train_loss)\n",
    "    val_losses.append(val_loss)\n",
    "\n",
    "    print(f\"Epoch {epoch+1}/{NUM_EPOCHS} - Train Loss: {train_loss:.4f}, Val Loss: {val_loss:.4f}\")\n",
    "\n",
    "    # Save checkpoint every epoch\n",
    "    torch.save({\n",
    "        'epoch': epoch + 1,\n",
    "        'model_state_dict': model.state_dict(),\n",
    "        'optimizer_state_dict': optimizer.state_dict(),\n",
    "        'scheduler_state_dict': scheduler.state_dict(),\n",
    "        'train_loss': train_loss,\n",
    "        'val_loss': val_loss,\n",
    "    }, f\"../models/conformer_checkpoint_epoch_{epoch+1}.pt\")\n",
    "\n",
    "    # Save model if validation loss improved\n",
    "    if val_loss < best_val_loss:\n",
    "        best_val_loss = val_loss\n",
    "        NO_IMPROVE_EPOCHS = 0\n",
    "        print(f\"Saving best model with val loss: {val_loss:.4f}\")\n",
    "        torch.save(model.state_dict(), \"../models/best_conformer_model.pt\")\n",
    "    else:\n",
    "        NO_IMPROVE_EPOCHS += 1\n",
    "        if NO_IMPROVE_EPOCHS >= EARLY_STOPPING_PATIENCE:\n",
    "            print(\"Early stopping triggered.\")\n",
    "            break\n"
   ]
  },
  {
   "cell_type": "code",
   "execution_count": 6,
   "metadata": {},
   "outputs": [
    {
     "data": {
      "image/png": "[encoded data removed]",
      "text/plain": [
       "<Figure size 1000x500 with 1 Axes>"
      ]
     },
     "metadata": {},
     "output_type": "display_data"
    }
   ],
   "source": [
    "# Plot loss curves\n",
    "plt.figure(figsize=(10, 5))\n",
    "plt.plot(train_losses, label='Train Loss')\n",
    "plt.plot(val_losses, label='Validation Loss')\n",
    "plt.xlabel('Epoch')\n",
    "plt.ylabel('Loss')\n",
    "plt.legend()\n",
    "plt.title('Training and Validation Loss')\n",
    "plt.savefig('training_curve.png')\n",
    "plt.show()"
   ]
  },
  {
   "cell_type": "code",
   "execution_count": null,
   "metadata": {},
   "outputs": [],
   "source": []
  }
 ],
 "metadata": {
  "kernelspec": {
   "display_name": "base",
   "language": "python",
   "name": "python3"
  },
  "language_info": {
   "codemirror_mode": {
    "name": "ipython",
    "version": 3
   },
   "file_extension": ".py",
   "mimetype": "text/x-python",
   "name": "python",
   "nbconvert_exporter": "python",
   "pygments_lexer": "ipython3",
   "version": "3.10.13"
  }
 },
 "nbformat": 4,
 "nbformat_minor": 2
}
