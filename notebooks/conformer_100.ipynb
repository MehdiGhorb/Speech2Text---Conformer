{
 "cells": [
  {
   "cell_type": "code",
   "execution_count": 1,
   "metadata": {},
   "outputs": [],
   "source": [
    "from torch.utils.data import DataLoader\n",
    "from torch.optim.lr_scheduler import CosineAnnealingLR\n",
    "import matplotlib.pyplot as plt\n",
    "import torch.optim as optim\n",
    "import yaml\n",
    "\n",
    "\n",
    "import sys\n",
    "sys.path.append('../')\n",
    "from src.conformer import *\n",
    "from src.data_loader import *\n",
    "from src.train import *"
   ]
  },
  {
   "cell_type": "code",
   "execution_count": 2,
   "metadata": {},
   "outputs": [
    {
     "name": "stdout",
     "output_type": "stream",
     "text": [
      "Using device: cuda\n"
     ]
    }
   ],
   "source": [
    "# Set device\n",
    "device = torch.device(\"cuda\" if torch.cuda.is_available() else \"cpu\")\n",
    "print(f\"Using device: {device}\")"
   ]
  },
  {
   "cell_type": "code",
   "execution_count": 3,
   "metadata": {},
   "outputs": [],
   "source": [
    "with open(\"../configs/training_config.yaml\", \"r\") as file:\n",
    "    config = yaml.safe_load(file)\n",
    "\n",
    "# Access hyperparameters\n",
    "BATCH_SIZE = config[\"hyperparameters\"][\"BATCH_SIZE\"]\n",
    "NUM_EPOCHS = config[\"hyperparameters\"][\"NUM_EPOCHS\"]\n",
    "LEARNING_RATE = config[\"hyperparameters\"][\"LEARNING_RATE\"]\n",
    "WEIGHT_DECAY = config[\"hyperparameters\"][\"WEIGHT_DECAY\"]\n",
    "\n",
    "# Access model parameters\n",
    "INPUT_DIM = config[\"model\"][\"INPUT_DIM\"]\n",
    "D_MODEL = config[\"model\"][\"D_MODEL\"]\n",
    "NUM_HEADS = config[\"model\"][\"NUM_HEADS\"]\n",
    "D_FF = config[\"model\"][\"D_FF\"]\n",
    "NUM_LAYERS = config[\"model\"][\"NUM_LAYERS\"]\n",
    "KERNEL_SIZE = config[\"model\"][\"KERNEL_SIZE\"]\n",
    "DROPOUT = config[\"model\"][\"DROPOUT\"]\n",
    "VOCAB_SIZE = config[\"model\"][\"VOCAB_SIZE\"]\n",
    "EARLY_STOPPING_PATIENCE = config[\"model\"][\"EARLY_STOPPING_PATIENCE\"]\n",
    "NO_IMPROVE_EPOCHS = config[\"model\"][\"NO_IMPROVE_EPOCHS\"]"
   ]
  },
  {
   "cell_type": "code",
   "execution_count": 4,
   "metadata": {},
   "outputs": [
    {
     "name": "stdout",
     "output_type": "stream",
     "text": [
      "Total parameters: 82,128,927\n",
      "Model storage required: 313.30 MB\n"
     ]
    }
   ],
   "source": [
    "# Data paths\n",
    "data_root = \"../data\"\n",
    "    \n",
    "# Create datasets\n",
    "train_dataset = LibriSpeechDataset(root=data_root, split=\"train-clean-100\")\n",
    "val_dataset = LibriSpeechDataset(root=data_root, split=\"dev-clean\")\n",
    "    \n",
    "# Create data loaders\n",
    "train_loader = DataLoader(\n",
    "        train_dataset,\n",
    "        batch_size=BATCH_SIZE,\n",
    "        shuffle=True,\n",
    "        collate_fn=collate_fn,\n",
    "        num_workers=4\n",
    "    )\n",
    "    \n",
    "val_loader = DataLoader(\n",
    "        val_dataset,\n",
    "        batch_size=BATCH_SIZE,\n",
    "        shuffle=False,\n",
    "        collate_fn=collate_fn,\n",
    "        num_workers=4\n",
    "    )\n",
    "    \n",
    "# Initialize model\n",
    "model = Conformer(\n",
    "        input_dim=INPUT_DIM,\n",
    "        d_model=D_MODEL,\n",
    "        num_heads=NUM_HEADS,\n",
    "        d_ff=D_FF,\n",
    "        num_layers=NUM_LAYERS,\n",
    "        kernel_size=KERNEL_SIZE,\n",
    "        dropout=DROPOUT,\n",
    "        vocab_size=VOCAB_SIZE\n",
    "    ).to(device)\n",
    "\n",
    "# Calculate model parameters\n",
    "total_params = sum(p.numel() for p in model.parameters())\n",
    "print(f\"Total parameters: {total_params:,}\")\n",
    "\n",
    "# Estimate model storage (in MB)\n",
    "param_size = 4 # float32 size\n",
    "storage_needed = total_params * param_size / (1024 ** 2)\n",
    "print(f\"Model storage required: {storage_needed:.2f} MB\")\n",
    "    \n",
    "# Define optimizer and loss\n",
    "optimizer = optim.Adam(model.parameters(), lr=LEARNING_RATE)\n",
    "\n",
    "warmup_epochs = 5  # Number of warmup epochs\n",
    "scheduler = CosineAnnealingLR(optimizer, T_max=NUM_EPOCHS, eta_min=LEARNING_RATE * 0.1)\n",
    "\n",
    "#scheduler = optim.lr_scheduler.ReduceLROnPlateau(\n",
    "#        optimizer, 'min', factor=0.5, patience=2, verbose=True\n",
    "#    )\n",
    "\n",
    "criterion = nn.CTCLoss(blank=train_dataset.blank_idx)\n",
    "\n",
    "scaler = torch.cuda.amp.GradScaler()\n"
   ]
  },
  {
   "cell_type": "code",
   "execution_count": 7,
   "metadata": {},
   "outputs": [
    {
     "name": "stderr",
     "output_type": "stream",
     "text": [
      "Epoch 1 - Training: 100%|██████████| 7135/7135 [2:12:43<00:00,  1.12s/it, loss=0.757]  \n",
      "/home/mehdi/Desktop/stt/stt_env/lib/python3.10/site-packages/torch/optim/lr_scheduler.py:243: UserWarning: The epoch parameter in `scheduler.step()` was not necessary and is being deprecated where possible. Please use `scheduler.step()` to step the scheduler. During the deprecation, if epoch is different from None, the closed form is used instead of the new chainable form, where available. Please open an issue if you are unable to replicate your use case: https://github.com/pytorch/pytorch/issues/new/choose.\n",
      "  warnings.warn(EPOCH_DEPRECATION_WARNING, UserWarning)\n"
     ]
    },
    {
     "name": "stdout",
     "output_type": "stream",
     "text": [
      "Epoch 1/50 - Train Loss: 1.4089, Val Loss: 0.7044\n",
      "Saving best model with val loss: 0.7044\n"
     ]
    },
    {
     "name": "stderr",
     "output_type": "stream",
     "text": [
      "Epoch 2 - Training: 100%|██████████| 7135/7135 [2:12:50<00:00,  1.12s/it, loss=0.387]  \n"
     ]
    },
    {
     "name": "stdout",
     "output_type": "stream",
     "text": [
      "Epoch 2/50 - Train Loss: 0.5874, Val Loss: 0.5881\n",
      "Saving best model with val loss: 0.5881\n"
     ]
    },
    {
     "name": "stderr",
     "output_type": "stream",
     "text": [
      "Epoch 3 - Training: 100%|██████████| 7135/7135 [2:12:54<00:00,  1.12s/it, loss=0.388]  \n"
     ]
    },
    {
     "name": "stdout",
     "output_type": "stream",
     "text": [
      "Epoch 3/50 - Train Loss: 0.4604, Val Loss: 0.5125\n",
      "Saving best model with val loss: 0.5125\n"
     ]
    },
    {
     "name": "stderr",
     "output_type": "stream",
     "text": [
      "Epoch 4 - Training: 100%|██████████| 7135/7135 [2:13:16<00:00,  1.12s/it, loss=0.539]  \n"
     ]
    },
    {
     "name": "stdout",
     "output_type": "stream",
     "text": [
      "Epoch 4/50 - Train Loss: 0.3878, Val Loss: 0.3999\n",
      "Saving best model with val loss: 0.3999\n"
     ]
    },
    {
     "name": "stderr",
     "output_type": "stream",
     "text": [
      "Epoch 5 - Training: 100%|██████████| 7135/7135 [2:13:41<00:00,  1.12s/it, loss=0.224]  \n"
     ]
    },
    {
     "name": "stdout",
     "output_type": "stream",
     "text": [
      "Epoch 5/50 - Train Loss: 0.3232, Val Loss: 0.3553\n",
      "Saving best model with val loss: 0.3553\n"
     ]
    },
    {
     "name": "stderr",
     "output_type": "stream",
     "text": [
      "Epoch 6 - Training: 100%|██████████| 7135/7135 [2:13:51<00:00,  1.13s/it, loss=0.266]  \n"
     ]
    },
    {
     "name": "stdout",
     "output_type": "stream",
     "text": [
      "Epoch 6/50 - Train Loss: 0.2735, Val Loss: 0.4395\n"
     ]
    },
    {
     "name": "stderr",
     "output_type": "stream",
     "text": [
      "Epoch 7 - Training: 100%|██████████| 7135/7135 [2:13:35<00:00,  1.12s/it, loss=0.186]  \n"
     ]
    },
    {
     "name": "stdout",
     "output_type": "stream",
     "text": [
      "Epoch 7/50 - Train Loss: 0.2683, Val Loss: 0.3783\n"
     ]
    },
    {
     "name": "stderr",
     "output_type": "stream",
     "text": [
      "Epoch 8 - Training: 100%|██████████| 7135/7135 [2:13:32<00:00,  1.12s/it, loss=0.0988]  \n"
     ]
    },
    {
     "name": "stdout",
     "output_type": "stream",
     "text": [
      "Epoch 8/50 - Train Loss: 0.2130, Val Loss: 0.3478\n",
      "Saving best model with val loss: 0.3478\n"
     ]
    },
    {
     "name": "stderr",
     "output_type": "stream",
     "text": [
      "Epoch 9 - Training: 100%|██████████| 7135/7135 [2:13:29<00:00,  1.12s/it, loss=0.123]   \n"
     ]
    },
    {
     "name": "stdout",
     "output_type": "stream",
     "text": [
      "Epoch 9/50 - Train Loss: 0.2116, Val Loss: 0.3376\n",
      "Saving best model with val loss: 0.3376\n"
     ]
    },
    {
     "name": "stderr",
     "output_type": "stream",
     "text": [
      "Epoch 10 - Training: 100%|██████████| 7135/7135 [2:13:30<00:00,  1.12s/it, loss=0.151]   \n"
     ]
    },
    {
     "name": "stdout",
     "output_type": "stream",
     "text": [
      "Epoch 10/50 - Train Loss: 0.1659, Val Loss: 0.3631\n"
     ]
    },
    {
     "name": "stderr",
     "output_type": "stream",
     "text": [
      "Epoch 11 - Training: 100%|██████████| 7135/7135 [2:12:58<00:00,  1.12s/it, loss=0.108]   \n"
     ]
    },
    {
     "name": "stdout",
     "output_type": "stream",
     "text": [
      "Epoch 11/50 - Train Loss: 0.1683, Val Loss: 0.3148\n",
      "Saving best model with val loss: 0.3148\n"
     ]
    },
    {
     "name": "stderr",
     "output_type": "stream",
     "text": [
      "Epoch 12 - Training: 100%|██████████| 7135/7135 [2:12:43<00:00,  1.12s/it, loss=0.102]   \n"
     ]
    },
    {
     "name": "stdout",
     "output_type": "stream",
     "text": [
      "Epoch 12/50 - Train Loss: 0.1380, Val Loss: 0.3112\n",
      "Saving best model with val loss: 0.3112\n"
     ]
    },
    {
     "name": "stderr",
     "output_type": "stream",
     "text": [
      "Epoch 13 - Training: 100%|██████████| 7135/7135 [2:12:57<00:00,  1.12s/it, loss=0.236]   \n"
     ]
    },
    {
     "name": "stdout",
     "output_type": "stream",
     "text": [
      "Epoch 13/50 - Train Loss: 0.1121, Val Loss: 0.3359\n"
     ]
    },
    {
     "name": "stderr",
     "output_type": "stream",
     "text": [
      "Epoch 14 - Training: 100%|██████████| 7135/7135 [2:13:27<00:00,  1.12s/it, loss=0.0864]  \n"
     ]
    },
    {
     "name": "stdout",
     "output_type": "stream",
     "text": [
      "Epoch 14/50 - Train Loss: 0.1194, Val Loss: 0.3541\n"
     ]
    },
    {
     "name": "stderr",
     "output_type": "stream",
     "text": [
      "Epoch 15 - Training: 100%|██████████| 7135/7135 [2:13:19<00:00,  1.12s/it, loss=0.298]   \n"
     ]
    },
    {
     "name": "stdout",
     "output_type": "stream",
     "text": [
      "Epoch 15/50 - Train Loss: 0.1125, Val Loss: 0.3182\n",
      "Early stopping triggered.\n"
     ]
    }
   ],
   "source": [
    "# Training loop\n",
    "train_losses = []\n",
    "val_losses = []\n",
    "best_val_loss = float('inf')\n",
    "    \n",
    "for epoch in range(NUM_EPOCHS):\n",
    "    # Train with mixed precision\n",
    "    train_loss = train(model, train_loader, optimizer, criterion, device, epoch, scaler)\n",
    "        \n",
    "    # Evaluate\n",
    "    val_loss = evaluate(model, val_loader, criterion, device)\n",
    "        \n",
    "    # Adjust learning rate\n",
    "    scheduler.step(val_loss)\n",
    "        \n",
    "    # Save losses\n",
    "    train_losses.append(train_loss)\n",
    "    val_losses.append(val_loss)\n",
    "        \n",
    "    print(f\"Epoch {epoch+1}/{NUM_EPOCHS} - Train Loss: {train_loss:.4f}, Val Loss: {val_loss:.4f}\")\n",
    "        \n",
    "\n",
    "    # Save checkpoint every epoch\n",
    "    torch.save({\n",
    "            'epoch': epoch + 1,\n",
    "            'model_state_dict': model.state_dict(),\n",
    "            'optimizer_state_dict': optimizer.state_dict(),\n",
    "            'scheduler_state_dict': scheduler.state_dict(),\n",
    "            'train_loss': train_loss,\n",
    "            'val_loss': val_loss,\n",
    "        }, f\"../models/conformer_checkpoint_epoch_{epoch+1}.pt\")\n",
    "\n",
    "\n",
    "    # Save model if validation loss improved and Early Stopping\n",
    "    if val_loss < best_val_loss:\n",
    "        best_val_loss = val_loss\n",
    "        NO_IMPROVE_EPOCHS = 0\n",
    "        print(f\"Saving best model with val loss: {val_loss:.4f}\")\n",
    "        torch.save(model.state_dict(), \"../models/best_conformer_model.pt\")\n",
    "    else:\n",
    "        NO_IMPROVE_EPOCHS += 1\n",
    "        if NO_IMPROVE_EPOCHS >= EARLY_STOPPING_PATIENCE:\n",
    "            print(\"Early stopping triggered.\")\n",
    "            break\n"
   ]
  },
  {
   "cell_type": "code",
   "execution_count": 8,
   "metadata": {},
   "outputs": [
    {
     "data": {
      "image/png": "[encoded data removed]",
      "text/plain": [
       "<Figure size 1000x500 with 1 Axes>"
      ]
     },
     "metadata": {},
     "output_type": "display_data"
    }
   ],
   "source": [
    "# Plot loss curves\n",
    "plt.figure(figsize=(10, 5))\n",
    "plt.plot(train_losses, label='Train Loss')\n",
    "plt.plot(val_losses, label='Validation Loss')\n",
    "plt.xlabel('Epoch')\n",
    "plt.ylabel('Loss')\n",
    "plt.legend()\n",
    "plt.title('Training and Validation Loss')\n",
    "plt.savefig('training_curve.png')\n",
    "plt.show()"
   ]
  },
  {
   "cell_type": "code",
   "execution_count": null,
   "metadata": {},
   "outputs": [],
   "source": []
  }
 ],
 "metadata": {
  "kernelspec": {
   "display_name": "Python 3",
   "language": "python",
   "name": "python3"
  },
  "language_info": {
   "codemirror_mode": {
    "name": "ipython",
    "version": 3
   },
   "file_extension": ".py",
   "mimetype": "text/x-python",
   "name": "python",
   "nbconvert_exporter": "python",
   "pygments_lexer": "ipython3",
   "version": "3.10.13"
  }
 },
 "nbformat": 4,
 "nbformat_minor": 2
}
